{
 "cells": [
  {
   "cell_type": "markdown",
   "metadata": {},
   "source": [
    "#### 1. Import pandas library"
   ]
  },
  {
   "cell_type": "code",
   "execution_count": 1,
   "metadata": {},
   "outputs": [],
   "source": [
    "import pandas as pd\n",
    "import numpy as np"
   ]
  },
  {
   "cell_type": "markdown",
   "metadata": {},
   "source": [
    "#### 2. Import users table:"
   ]
  },
  {
   "cell_type": "code",
   "execution_count": 3,
   "metadata": {},
   "outputs": [
    {
     "data": {
      "text/plain": [
       "(40325, 14)"
      ]
     },
     "execution_count": 3,
     "metadata": {},
     "output_type": "execute_result"
    }
   ],
   "source": [
    "user_table = pd.read_csv('users_table.csv')\n",
    "user_table.shape"
   ]
  },
  {
   "cell_type": "markdown",
   "metadata": {},
   "source": [
    "#### 3. Rename Id column to userId"
   ]
  },
  {
   "cell_type": "code",
   "execution_count": 9,
   "metadata": {},
   "outputs": [
    {
     "data": {
      "text/plain": [
       "userId               int64\n",
       "Reputation           int64\n",
       "CreationDate        object\n",
       "DisplayName         object\n",
       "LastAccessDate      object\n",
       "WebsiteUrl          object\n",
       "Location            object\n",
       "AboutMe             object\n",
       "Views                int64\n",
       "UpVotes              int64\n",
       "DownVotes            int64\n",
       "AccountId            int64\n",
       "Age                float64\n",
       "ProfileImageUrl     object\n",
       "dtype: object"
      ]
     },
     "execution_count": 9,
     "metadata": {},
     "output_type": "execute_result"
    }
   ],
   "source": [
    "user_table.rename(columns={'Id':'userId'}, inplace= True)\n",
    "user_table.dtypes\n",
    "\n",
    "#first try\n",
    "#user_table.rename(columns={'ID':'userId'}).copy()\n"
   ]
  },
  {
   "cell_type": "markdown",
   "metadata": {},
   "source": [
    "#### 4. Import posts table:"
   ]
  },
  {
   "cell_type": "code",
   "execution_count": 10,
   "metadata": {},
   "outputs": [
    {
     "data": {
      "text/plain": [
       "Id                         int64\n",
       "PostTypeId                 int64\n",
       "AcceptedAnswerId         float64\n",
       "CreaionDate               object\n",
       "Score                      int64\n",
       "ViewCount                float64\n",
       "Body                      object\n",
       "OwnerUserId              float64\n",
       "LasActivityDate           object\n",
       "Title                     object\n",
       "Tags                      object\n",
       "AnswerCount              float64\n",
       "CommentCount               int64\n",
       "FavoriteCount            float64\n",
       "LastEditorUserId         float64\n",
       "LastEditDate              object\n",
       "CommunityOwnedDate        object\n",
       "ParentId                 float64\n",
       "ClosedDate                object\n",
       "OwnerDisplayName          object\n",
       "LastEditorDisplayName     object\n",
       "dtype: object"
      ]
     },
     "execution_count": 10,
     "metadata": {},
     "output_type": "execute_result"
    }
   ],
   "source": [
    "posts = pd.read_csv('posts_table.csv')\n",
    "posts.dtypes"
   ]
  },
  {
   "cell_type": "markdown",
   "metadata": {},
   "source": [
    "#### 5. Rename Id column to postId and OwnerUserId to userId"
   ]
  },
  {
   "cell_type": "code",
   "execution_count": 33,
   "metadata": {
    "scrolled": true
   },
   "outputs": [
    {
     "data": {
      "text/html": [
       "<div>\n",
       "<style scoped>\n",
       "    .dataframe tbody tr th:only-of-type {\n",
       "        vertical-align: middle;\n",
       "    }\n",
       "\n",
       "    .dataframe tbody tr th {\n",
       "        vertical-align: top;\n",
       "    }\n",
       "\n",
       "    .dataframe thead th {\n",
       "        text-align: right;\n",
       "    }\n",
       "</style>\n",
       "<table border=\"1\" class=\"dataframe\">\n",
       "  <thead>\n",
       "    <tr style=\"text-align: right;\">\n",
       "      <th></th>\n",
       "      <th>postID</th>\n",
       "      <th>PostTypeId</th>\n",
       "      <th>AcceptedAnswerId</th>\n",
       "      <th>CreaionDate</th>\n",
       "      <th>Score</th>\n",
       "      <th>ViewCount</th>\n",
       "      <th>Body</th>\n",
       "      <th>userId</th>\n",
       "      <th>LasActivityDate</th>\n",
       "      <th>Title</th>\n",
       "      <th>...</th>\n",
       "      <th>AnswerCount</th>\n",
       "      <th>CommentCount</th>\n",
       "      <th>FavoriteCount</th>\n",
       "      <th>LastEditorUserId</th>\n",
       "      <th>LastEditDate</th>\n",
       "      <th>CommunityOwnedDate</th>\n",
       "      <th>ParentId</th>\n",
       "      <th>ClosedDate</th>\n",
       "      <th>OwnerDisplayName</th>\n",
       "      <th>LastEditorDisplayName</th>\n",
       "    </tr>\n",
       "  </thead>\n",
       "  <tbody>\n",
       "    <tr>\n",
       "      <th>0</th>\n",
       "      <td>1</td>\n",
       "      <td>1</td>\n",
       "      <td>15.0</td>\n",
       "      <td>2010-07-19 19:12:12</td>\n",
       "      <td>23</td>\n",
       "      <td>1278.0</td>\n",
       "      <td>&lt;p&gt;How should I elicit prior distributions fro...</td>\n",
       "      <td>8.0</td>\n",
       "      <td>2010-09-15 21:08:26</td>\n",
       "      <td>Eliciting priors from experts</td>\n",
       "      <td>...</td>\n",
       "      <td>5.0</td>\n",
       "      <td>1</td>\n",
       "      <td>14.0</td>\n",
       "      <td>NaN</td>\n",
       "      <td>NaN</td>\n",
       "      <td>NaN</td>\n",
       "      <td>NaN</td>\n",
       "      <td>NaN</td>\n",
       "      <td>NaN</td>\n",
       "      <td>NaN</td>\n",
       "    </tr>\n",
       "    <tr>\n",
       "      <th>1</th>\n",
       "      <td>2</td>\n",
       "      <td>1</td>\n",
       "      <td>59.0</td>\n",
       "      <td>2010-07-19 19:12:57</td>\n",
       "      <td>22</td>\n",
       "      <td>8198.0</td>\n",
       "      <td>&lt;p&gt;In many different statistical methods there...</td>\n",
       "      <td>24.0</td>\n",
       "      <td>2012-11-12 09:21:54</td>\n",
       "      <td>What is normality?</td>\n",
       "      <td>...</td>\n",
       "      <td>7.0</td>\n",
       "      <td>1</td>\n",
       "      <td>8.0</td>\n",
       "      <td>88.0</td>\n",
       "      <td>2010-08-07 17:56:44</td>\n",
       "      <td>NaN</td>\n",
       "      <td>NaN</td>\n",
       "      <td>NaN</td>\n",
       "      <td>NaN</td>\n",
       "      <td>NaN</td>\n",
       "    </tr>\n",
       "    <tr>\n",
       "      <th>2</th>\n",
       "      <td>3</td>\n",
       "      <td>1</td>\n",
       "      <td>5.0</td>\n",
       "      <td>2010-07-19 19:13:28</td>\n",
       "      <td>54</td>\n",
       "      <td>3613.0</td>\n",
       "      <td>&lt;p&gt;What are some valuable Statistical Analysis...</td>\n",
       "      <td>18.0</td>\n",
       "      <td>2013-05-27 14:48:36</td>\n",
       "      <td>What are some valuable Statistical Analysis op...</td>\n",
       "      <td>...</td>\n",
       "      <td>19.0</td>\n",
       "      <td>4</td>\n",
       "      <td>36.0</td>\n",
       "      <td>183.0</td>\n",
       "      <td>2011-02-12 05:50:03</td>\n",
       "      <td>2010-07-19 19:13:28</td>\n",
       "      <td>NaN</td>\n",
       "      <td>NaN</td>\n",
       "      <td>NaN</td>\n",
       "      <td>NaN</td>\n",
       "    </tr>\n",
       "    <tr>\n",
       "      <th>3</th>\n",
       "      <td>4</td>\n",
       "      <td>1</td>\n",
       "      <td>135.0</td>\n",
       "      <td>2010-07-19 19:13:31</td>\n",
       "      <td>13</td>\n",
       "      <td>5224.0</td>\n",
       "      <td>&lt;p&gt;I have two groups of data.  Each with a dif...</td>\n",
       "      <td>23.0</td>\n",
       "      <td>2010-09-08 03:00:19</td>\n",
       "      <td>Assessing the significance of differences in d...</td>\n",
       "      <td>...</td>\n",
       "      <td>5.0</td>\n",
       "      <td>2</td>\n",
       "      <td>2.0</td>\n",
       "      <td>NaN</td>\n",
       "      <td>NaN</td>\n",
       "      <td>NaN</td>\n",
       "      <td>NaN</td>\n",
       "      <td>NaN</td>\n",
       "      <td>NaN</td>\n",
       "      <td>NaN</td>\n",
       "    </tr>\n",
       "    <tr>\n",
       "      <th>4</th>\n",
       "      <td>5</td>\n",
       "      <td>2</td>\n",
       "      <td>NaN</td>\n",
       "      <td>2010-07-19 19:14:43</td>\n",
       "      <td>81</td>\n",
       "      <td>NaN</td>\n",
       "      <td>&lt;p&gt;The R-project&lt;/p&gt;\\n\\n&lt;p&gt;&lt;a href=\"http://www...</td>\n",
       "      <td>23.0</td>\n",
       "      <td>2010-07-19 19:21:15</td>\n",
       "      <td>NaN</td>\n",
       "      <td>...</td>\n",
       "      <td>NaN</td>\n",
       "      <td>3</td>\n",
       "      <td>NaN</td>\n",
       "      <td>23.0</td>\n",
       "      <td>2010-07-19 19:21:15</td>\n",
       "      <td>2010-07-19 19:14:43</td>\n",
       "      <td>3.0</td>\n",
       "      <td>NaN</td>\n",
       "      <td>NaN</td>\n",
       "      <td>NaN</td>\n",
       "    </tr>\n",
       "    <tr>\n",
       "      <th>...</th>\n",
       "      <td>...</td>\n",
       "      <td>...</td>\n",
       "      <td>...</td>\n",
       "      <td>...</td>\n",
       "      <td>...</td>\n",
       "      <td>...</td>\n",
       "      <td>...</td>\n",
       "      <td>...</td>\n",
       "      <td>...</td>\n",
       "      <td>...</td>\n",
       "      <td>...</td>\n",
       "      <td>...</td>\n",
       "      <td>...</td>\n",
       "      <td>...</td>\n",
       "      <td>...</td>\n",
       "      <td>...</td>\n",
       "      <td>...</td>\n",
       "      <td>...</td>\n",
       "      <td>...</td>\n",
       "      <td>...</td>\n",
       "      <td>...</td>\n",
       "    </tr>\n",
       "    <tr>\n",
       "      <th>39995</th>\n",
       "      <td>48321</td>\n",
       "      <td>2</td>\n",
       "      <td>NaN</td>\n",
       "      <td>2013-01-23 09:00:01</td>\n",
       "      <td>0</td>\n",
       "      <td>NaN</td>\n",
       "      <td>&lt;p&gt;you can use the matlab codes for svm and co...</td>\n",
       "      <td>19966.0</td>\n",
       "      <td>2013-01-23 09:00:01</td>\n",
       "      <td>NaN</td>\n",
       "      <td>...</td>\n",
       "      <td>NaN</td>\n",
       "      <td>0</td>\n",
       "      <td>NaN</td>\n",
       "      <td>NaN</td>\n",
       "      <td>NaN</td>\n",
       "      <td>NaN</td>\n",
       "      <td>45118.0</td>\n",
       "      <td>NaN</td>\n",
       "      <td>NaN</td>\n",
       "      <td>NaN</td>\n",
       "    </tr>\n",
       "    <tr>\n",
       "      <th>39996</th>\n",
       "      <td>48322</td>\n",
       "      <td>2</td>\n",
       "      <td>NaN</td>\n",
       "      <td>2013-01-23 09:09:34</td>\n",
       "      <td>3</td>\n",
       "      <td>NaN</td>\n",
       "      <td>&lt;p&gt;I use &lt;a href=\"http://www.gnu.org/software/...</td>\n",
       "      <td>892.0</td>\n",
       "      <td>2013-01-23 13:13:30</td>\n",
       "      <td>NaN</td>\n",
       "      <td>...</td>\n",
       "      <td>NaN</td>\n",
       "      <td>2</td>\n",
       "      <td>NaN</td>\n",
       "      <td>892.0</td>\n",
       "      <td>2013-01-23 13:13:30</td>\n",
       "      <td>NaN</td>\n",
       "      <td>48311.0</td>\n",
       "      <td>NaN</td>\n",
       "      <td>NaN</td>\n",
       "      <td>NaN</td>\n",
       "    </tr>\n",
       "    <tr>\n",
       "      <th>39997</th>\n",
       "      <td>48323</td>\n",
       "      <td>2</td>\n",
       "      <td>NaN</td>\n",
       "      <td>2013-01-23 09:16:44</td>\n",
       "      <td>1</td>\n",
       "      <td>NaN</td>\n",
       "      <td>&lt;p&gt;If I understand your question correctly, yo...</td>\n",
       "      <td>2020.0</td>\n",
       "      <td>2013-01-23 09:16:44</td>\n",
       "      <td>NaN</td>\n",
       "      <td>...</td>\n",
       "      <td>NaN</td>\n",
       "      <td>0</td>\n",
       "      <td>NaN</td>\n",
       "      <td>NaN</td>\n",
       "      <td>NaN</td>\n",
       "      <td>NaN</td>\n",
       "      <td>48247.0</td>\n",
       "      <td>NaN</td>\n",
       "      <td>NaN</td>\n",
       "      <td>NaN</td>\n",
       "    </tr>\n",
       "    <tr>\n",
       "      <th>39998</th>\n",
       "      <td>48324</td>\n",
       "      <td>2</td>\n",
       "      <td>NaN</td>\n",
       "      <td>2013-01-23 09:36:07</td>\n",
       "      <td>3</td>\n",
       "      <td>NaN</td>\n",
       "      <td>&lt;p&gt;Doesn't really help you with your question,...</td>\n",
       "      <td>19914.0</td>\n",
       "      <td>2013-01-23 09:36:07</td>\n",
       "      <td>NaN</td>\n",
       "      <td>...</td>\n",
       "      <td>NaN</td>\n",
       "      <td>0</td>\n",
       "      <td>NaN</td>\n",
       "      <td>NaN</td>\n",
       "      <td>NaN</td>\n",
       "      <td>NaN</td>\n",
       "      <td>48297.0</td>\n",
       "      <td>NaN</td>\n",
       "      <td>NaN</td>\n",
       "      <td>NaN</td>\n",
       "    </tr>\n",
       "    <tr>\n",
       "      <th>39999</th>\n",
       "      <td>48325</td>\n",
       "      <td>1</td>\n",
       "      <td>NaN</td>\n",
       "      <td>2013-01-23 09:44:07</td>\n",
       "      <td>-1</td>\n",
       "      <td>116.0</td>\n",
       "      <td>&lt;p&gt;I have 10 vectors each having 100,000 point...</td>\n",
       "      <td>19968.0</td>\n",
       "      <td>2013-02-22 11:23:54</td>\n",
       "      <td>are data sets obtained from a Normal distribut...</td>\n",
       "      <td>...</td>\n",
       "      <td>2.0</td>\n",
       "      <td>4</td>\n",
       "      <td>NaN</td>\n",
       "      <td>NaN</td>\n",
       "      <td>NaN</td>\n",
       "      <td>NaN</td>\n",
       "      <td>NaN</td>\n",
       "      <td>NaN</td>\n",
       "      <td>NaN</td>\n",
       "      <td>NaN</td>\n",
       "    </tr>\n",
       "  </tbody>\n",
       "</table>\n",
       "<p>40000 rows × 21 columns</p>\n",
       "</div>"
      ],
      "text/plain": [
       "       postID  PostTypeId  AcceptedAnswerId          CreaionDate  Score  \\\n",
       "0           1           1              15.0  2010-07-19 19:12:12     23   \n",
       "1           2           1              59.0  2010-07-19 19:12:57     22   \n",
       "2           3           1               5.0  2010-07-19 19:13:28     54   \n",
       "3           4           1             135.0  2010-07-19 19:13:31     13   \n",
       "4           5           2               NaN  2010-07-19 19:14:43     81   \n",
       "...       ...         ...               ...                  ...    ...   \n",
       "39995   48321           2               NaN  2013-01-23 09:00:01      0   \n",
       "39996   48322           2               NaN  2013-01-23 09:09:34      3   \n",
       "39997   48323           2               NaN  2013-01-23 09:16:44      1   \n",
       "39998   48324           2               NaN  2013-01-23 09:36:07      3   \n",
       "39999   48325           1               NaN  2013-01-23 09:44:07     -1   \n",
       "\n",
       "       ViewCount                                               Body   userId  \\\n",
       "0         1278.0  <p>How should I elicit prior distributions fro...      8.0   \n",
       "1         8198.0  <p>In many different statistical methods there...     24.0   \n",
       "2         3613.0  <p>What are some valuable Statistical Analysis...     18.0   \n",
       "3         5224.0  <p>I have two groups of data.  Each with a dif...     23.0   \n",
       "4            NaN  <p>The R-project</p>\\n\\n<p><a href=\"http://www...     23.0   \n",
       "...          ...                                                ...      ...   \n",
       "39995        NaN  <p>you can use the matlab codes for svm and co...  19966.0   \n",
       "39996        NaN  <p>I use <a href=\"http://www.gnu.org/software/...    892.0   \n",
       "39997        NaN  <p>If I understand your question correctly, yo...   2020.0   \n",
       "39998        NaN  <p>Doesn't really help you with your question,...  19914.0   \n",
       "39999      116.0  <p>I have 10 vectors each having 100,000 point...  19968.0   \n",
       "\n",
       "           LasActivityDate                                              Title  \\\n",
       "0      2010-09-15 21:08:26                      Eliciting priors from experts   \n",
       "1      2012-11-12 09:21:54                                 What is normality?   \n",
       "2      2013-05-27 14:48:36  What are some valuable Statistical Analysis op...   \n",
       "3      2010-09-08 03:00:19  Assessing the significance of differences in d...   \n",
       "4      2010-07-19 19:21:15                                                NaN   \n",
       "...                    ...                                                ...   \n",
       "39995  2013-01-23 09:00:01                                                NaN   \n",
       "39996  2013-01-23 13:13:30                                                NaN   \n",
       "39997  2013-01-23 09:16:44                                                NaN   \n",
       "39998  2013-01-23 09:36:07                                                NaN   \n",
       "39999  2013-02-22 11:23:54  are data sets obtained from a Normal distribut...   \n",
       "\n",
       "       ... AnswerCount  CommentCount  FavoriteCount  LastEditorUserId  \\\n",
       "0      ...         5.0             1           14.0               NaN   \n",
       "1      ...         7.0             1            8.0              88.0   \n",
       "2      ...        19.0             4           36.0             183.0   \n",
       "3      ...         5.0             2            2.0               NaN   \n",
       "4      ...         NaN             3            NaN              23.0   \n",
       "...    ...         ...           ...            ...               ...   \n",
       "39995  ...         NaN             0            NaN               NaN   \n",
       "39996  ...         NaN             2            NaN             892.0   \n",
       "39997  ...         NaN             0            NaN               NaN   \n",
       "39998  ...         NaN             0            NaN               NaN   \n",
       "39999  ...         2.0             4            NaN               NaN   \n",
       "\n",
       "              LastEditDate   CommunityOwnedDate ParentId  ClosedDate  \\\n",
       "0                      NaN                  NaN      NaN         NaN   \n",
       "1      2010-08-07 17:56:44                  NaN      NaN         NaN   \n",
       "2      2011-02-12 05:50:03  2010-07-19 19:13:28      NaN         NaN   \n",
       "3                      NaN                  NaN      NaN         NaN   \n",
       "4      2010-07-19 19:21:15  2010-07-19 19:14:43      3.0         NaN   \n",
       "...                    ...                  ...      ...         ...   \n",
       "39995                  NaN                  NaN  45118.0         NaN   \n",
       "39996  2013-01-23 13:13:30                  NaN  48311.0         NaN   \n",
       "39997                  NaN                  NaN  48247.0         NaN   \n",
       "39998                  NaN                  NaN  48297.0         NaN   \n",
       "39999                  NaN                  NaN      NaN         NaN   \n",
       "\n",
       "      OwnerDisplayName LastEditorDisplayName  \n",
       "0                  NaN                   NaN  \n",
       "1                  NaN                   NaN  \n",
       "2                  NaN                   NaN  \n",
       "3                  NaN                   NaN  \n",
       "4                  NaN                   NaN  \n",
       "...                ...                   ...  \n",
       "39995              NaN                   NaN  \n",
       "39996              NaN                   NaN  \n",
       "39997              NaN                   NaN  \n",
       "39998              NaN                   NaN  \n",
       "39999              NaN                   NaN  \n",
       "\n",
       "[40000 rows x 21 columns]"
      ]
     },
     "execution_count": 33,
     "metadata": {},
     "output_type": "execute_result"
    }
   ],
   "source": [
    "posts.rename(columns= {'Id': 'postID','OwnerUserId': 'userId'}, inplace= True)\n",
    "posts"
   ]
  },
  {
   "cell_type": "markdown",
   "metadata": {},
   "source": [
    "#### 6. Define new dataframes for users and posts with the following selected columns:\n",
    "    **users columns**: userId, Reputation,Views,UpVotes,DownVotes\n",
    "    **posts columns**: postId, Score,userId,ViewCount,CommentCount"
   ]
  },
  {
   "cell_type": "code",
   "execution_count": 34,
   "metadata": {},
   "outputs": [],
   "source": [
    "user_table = user_table [['userId', 'Reputation', 'Views', 'UpVotes', 'DownVotes']]\n",
    "posts = posts[['postID', 'Score', 'userId', 'ViewCount', 'CommentCount']]\n",
    "\n",
    "#lot of issues just because I have simply didn´t copy right uppercase of ID "
   ]
  },
  {
   "cell_type": "markdown",
   "metadata": {},
   "source": [
    "#### 7. Merge both dataframes, users and posts. \n",
    "You will need to make a [merge](https://pandas.pydata.org/pandas-docs/stable/generated/pandas.DataFrame.merge.html) of posts and users dataframes."
   ]
  },
  {
   "cell_type": "code",
   "execution_count": 41,
   "metadata": {},
   "outputs": [
    {
     "data": {
      "text/plain": [
       "(38962, 9)"
      ]
     },
     "execution_count": 41,
     "metadata": {},
     "output_type": "execute_result"
    }
   ],
   "source": [
    "user_table.dtypes\n",
    "user_posts = user_table.merge(posts, on='userId')\n",
    "user_posts.shape"
   ]
  },
  {
   "cell_type": "markdown",
   "metadata": {},
   "source": [
    "#### 8. How many missing values do you have in your merged dataframe? On which columns?"
   ]
  },
  {
   "cell_type": "code",
   "execution_count": 42,
   "metadata": {
    "scrolled": true
   },
   "outputs": [
    {
     "name": "stdout",
     "output_type": "stream",
     "text": [
      "userId              0\n",
      "Reputation          0\n",
      "Views               0\n",
      "UpVotes             0\n",
      "DownVotes           0\n",
      "postID              0\n",
      "Score               0\n",
      "ViewCount       23572\n",
      "CommentCount        0\n",
      "dtype: int64\n"
     ]
    }
   ],
   "source": [
    "print(user_posts.isnull().sum())\n",
    "\n",
    "#it seems that we have on the ViewCount column,  23572 missing value"
   ]
  },
  {
   "cell_type": "markdown",
   "metadata": {},
   "source": [
    "#### 9. You will need to make something with missing values.  Will you clean or filling them? Explain. \n",
    "**Remember** to check the results of your code before passing to the next step"
   ]
  },
  {
   "cell_type": "code",
   "execution_count": 47,
   "metadata": {},
   "outputs": [
    {
     "name": "stdout",
     "output_type": "stream",
     "text": [
      "98.0      43\n",
      "150.0     43\n",
      "122.0     42\n",
      "156.0     41\n",
      "108.0     41\n",
      "          ..\n",
      "2313.0     1\n",
      "6113.0     1\n",
      "3463.0     1\n",
      "3531.0     1\n",
      "3357.0     1\n",
      "Name: ViewCount, Length: 3402, dtype: int64\n",
      "Series([], Name: ViewCount, dtype: float64)\n",
      "0.0        23572\n",
      "98.0          43\n",
      "150.0         43\n",
      "122.0         42\n",
      "108.0         41\n",
      "           ...  \n",
      "1664.0         1\n",
      "1337.0         1\n",
      "64481.0        1\n",
      "2313.0         1\n",
      "3357.0         1\n",
      "Name: ViewCount, Length: 3403, dtype: int64\n"
     ]
    }
   ],
   "source": [
    "print(users_posts['ViewCount'].value_counts())\n",
    "print(users_posts['ViewCount'][users_posts['ViewCount'] == 0])\n",
    "\n",
    "#It would make sense to fill the Na by 0 because it would have a better reflection for calculation like doing average calculation for example\n",
    "#used function fillna https://pandas.pydata.org/docs/reference/api/pandas.DataFrame.fillna.html\n",
    "users_posts['ViewCount'].fillna(0, inplace=True)\n",
    "print(users_posts['ViewCount'].value_counts())"
   ]
  },
  {
   "cell_type": "markdown",
   "metadata": {},
   "source": [
    "#### 10. Adjust the data types in order to avoid future issues. Which ones should be changed? "
   ]
  },
  {
   "cell_type": "code",
   "execution_count": 3,
   "metadata": {},
   "outputs": [
    {
     "ename": "NameError",
     "evalue": "name 'users_posts' is not defined",
     "output_type": "error",
     "traceback": [
      "\u001b[1;31m---------------------------------------------------------------------------\u001b[0m",
      "\u001b[1;31mNameError\u001b[0m                                 Traceback (most recent call last)",
      "\u001b[1;32m~\\AppData\\Local\\Temp/ipykernel_22424/2944346456.py\u001b[0m in \u001b[0;36m<module>\u001b[1;34m\u001b[0m\n\u001b[0;32m      1\u001b[0m \u001b[1;31m#using help of https://datacarpentry.org/python-ecology-lesson/04-data-types-and-format/ if I understood well the question we want to avoid to return Nan and only numerical values.\u001b[0m\u001b[1;33m\u001b[0m\u001b[1;33m\u001b[0m\u001b[0m\n\u001b[0;32m      2\u001b[0m \u001b[1;31m#Amending 'ViewCount' should fix the issue.\u001b[0m\u001b[1;33m\u001b[0m\u001b[1;33m\u001b[0m\u001b[0m\n\u001b[1;32m----> 3\u001b[1;33m \u001b[0musers_posts\u001b[0m \u001b[1;33m=\u001b[0m \u001b[0musers_posts\u001b[0m\u001b[1;33m.\u001b[0m\u001b[0mastype\u001b[0m\u001b[1;33m(\u001b[0m\u001b[1;33m{\u001b[0m\u001b[1;34m'ViewCount'\u001b[0m\u001b[1;33m:\u001b[0m \u001b[1;34m'int64'\u001b[0m\u001b[1;33m}\u001b[0m\u001b[1;33m)\u001b[0m\u001b[1;33m\u001b[0m\u001b[1;33m\u001b[0m\u001b[0m\n\u001b[0m",
      "\u001b[1;31mNameError\u001b[0m: name 'users_posts' is not defined"
     ]
    }
   ],
   "source": [
    "#using help of https://datacarpentry.org/python-ecology-lesson/04-data-types-and-format/ if I understood well the question we want to avoid to return Nan and only numerical values. \n",
    "#Amending 'ViewCount' should fix the issue. \n",
    "users_posts = users_posts.astype({'ViewCount': 'int64'})\n"
   ]
  },
  {
   "cell_type": "code",
   "execution_count": null,
   "metadata": {},
   "outputs": [],
   "source": []
  }
 ],
 "metadata": {
  "kernelspec": {
   "display_name": "Python 3 (ipykernel)",
   "language": "python",
   "name": "python3"
  },
  "language_info": {
   "codemirror_mode": {
    "name": "ipython",
    "version": 3
   },
   "file_extension": ".py",
   "mimetype": "text/x-python",
   "name": "python",
   "nbconvert_exporter": "python",
   "pygments_lexer": "ipython3",
   "version": "3.9.7"
  }
 },
 "nbformat": 4,
 "nbformat_minor": 2
}
